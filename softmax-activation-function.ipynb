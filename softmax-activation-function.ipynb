{
 "cells": [
  {
   "cell_type": "code",
   "execution_count": 1,
   "id": "b3007df5",
   "metadata": {},
   "outputs": [],
   "source": [
    "#implementing softmax activation function\n",
    "import numpy as np"
   ]
  },
  {
   "cell_type": "code",
   "execution_count": 2,
   "id": "70061781",
   "metadata": {},
   "outputs": [],
   "source": [
    "def softmax(logits):\n",
    "    explogits = np.exp(logits)\n",
    "    sumexplogits = np.sum(explogits)\n",
    "    softmaxvalue = explogits/sumexplogits\n",
    "    \n",
    "    return softmaxvalue"
   ]
  },
  {
   "cell_type": "code",
   "execution_count": 9,
   "id": "ca3c0e44",
   "metadata": {
    "scrolled": true
   },
   "outputs": [
    {
     "name": "stdout",
     "output_type": "stream",
     "text": [
      "[0.02008809 0.73518881 0.2447231 ]\n"
     ]
    }
   ],
   "source": [
    "logits = [-2.4, 1.2, 0.1]\n",
    "softmax_probabilities = softmax(logits)\n",
    "print(softmax_probabilities)"
   ]
  }
 ],
 "metadata": {
  "kernelspec": {
   "display_name": "Python 3 (ipykernel)",
   "language": "python",
   "name": "python3"
  },
  "language_info": {
   "codemirror_mode": {
    "name": "ipython",
    "version": 3
   },
   "file_extension": ".py",
   "mimetype": "text/x-python",
   "name": "python",
   "nbconvert_exporter": "python",
   "pygments_lexer": "ipython3",
   "version": "3.9.13"
  }
 },
 "nbformat": 4,
 "nbformat_minor": 5
}
